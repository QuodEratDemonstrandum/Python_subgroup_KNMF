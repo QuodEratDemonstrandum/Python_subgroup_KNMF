{
 "cells": [
  {
   "cell_type": "markdown",
   "metadata": {},
   "source": [
    "# Zadanie 7"
   ]
  },
  {
   "cell_type": "markdown",
   "metadata": {},
   "source": [
    "Żródło: https://www.hackerrank.com/challenges/vertical-sticks/problem\n",
    "![](media/Screenshot_2018-12-01 Vertical Sticks HackerRank.png)"
   ]
  },
  {
   "cell_type": "markdown",
   "metadata": {},
   "source": [
    "_Uwaga: Zmieniłem wejście w stosunku do przykładu powyżej. Funkcja zwraca wartość oczekiwaną dla każdego testu osobno._"
   ]
  },
  {
   "cell_type": "markdown",
   "metadata": {},
   "source": [
    "# Solution"
   ]
  },
  {
   "cell_type": "code",
   "execution_count": 67,
   "metadata": {},
   "outputs": [],
   "source": [
    "import numpy as np\n",
    "import itertools as it\n",
    "\n",
    "def ve(y):\n",
    "    #function that computes the sum of rays' length for given vector y\n",
    "    \n",
    "    sum_rays = 0\n",
    "    #rays = []\n",
    "    \n",
    "    for index, element in enumerate(y):\n",
    "        if index == 0:\n",
    "            ray = 1#first ray always touches y-axis\n",
    "            \n",
    "        elif max(y[0:index]) < element:\n",
    "            ray = index + 1#if all previous elements were smaller, then the ray touches the y-axis\n",
    "            \n",
    "        else:           \n",
    "            index2 = index - 1\n",
    "            \n",
    "            while y[index2]<y[index]:\n",
    "                index2 -= 1\n",
    "            \n",
    "            ray = index - index2\n",
    "            \n",
    "        sum_rays += ray\n",
    "        #rays.append(ray)\n",
    "        \n",
    "    return sum_rays#, rays\n",
    "\n",
    "def solve(y):\n",
    "    y_perm = tuple(it.permutations(y))\n",
    "    \n",
    "    ve_sum = 0\n",
    "    \n",
    "    for perm in y_perm:\n",
    "        ve_sum += ve(perm)\n",
    "    \n",
    "    return round(ve_sum/len(y_perm),2)"
   ]
  },
  {
   "cell_type": "code",
   "execution_count": 68,
   "metadata": {},
   "outputs": [
    {
     "name": "stdout",
     "output_type": "stream",
     "text": [
      "True\n",
      "True\n",
      "True\n",
      "True\n",
      "True\n",
      "True\n"
     ]
    }
   ],
   "source": [
    "test_1 = [1, 2, 3]\n",
    "test_2 = [3, 3, 3]\n",
    "test_3 = [2, 2, 3]\n",
    "test_4 = [10, 2, 4, 4]\n",
    "test_5 = [10, 10, 10, 5, 10]\n",
    "test_6 = [1, 2, 3, 4, 5, 6]\n",
    "\n",
    "print(solve(test_1) == 4.33)\n",
    "print(solve(test_2) == 3.00)\n",
    "print(solve(test_3) == 4.00)\n",
    "print(solve(test_4) == 6.00)\n",
    "print(solve(test_5) == 5.80)\n",
    "print(solve(test_6) == 11.15)"
   ]
  }
 ],
 "metadata": {
  "kernelspec": {
   "display_name": "Python 3",
   "language": "python",
   "name": "python3"
  },
  "language_info": {
   "codemirror_mode": {
    "name": "ipython",
    "version": 3
   },
   "file_extension": ".py",
   "mimetype": "text/x-python",
   "name": "python",
   "nbconvert_exporter": "python",
   "pygments_lexer": "ipython3",
   "version": "3.6.2"
  }
 },
 "nbformat": 4,
 "nbformat_minor": 2
}
