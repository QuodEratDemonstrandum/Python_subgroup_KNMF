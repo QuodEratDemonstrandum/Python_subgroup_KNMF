{
 "cells": [
  {
   "cell_type": "markdown",
   "metadata": {},
   "source": [
    "# Strumieniowa bezstratna kompresja słownikowa, Lempel-Ziv"
   ]
  },
  {
   "cell_type": "markdown",
   "metadata": {},
   "source": [
    "_Na podstawie:_ [_The Beauty of Lempel-Ziv Compression_](https://youtu.be/RV5aUr8sZD0)\n",
    "\n",
    "**Zadanie:**   \n",
    "Napisać modelowy przykład algorytmu kompresji metodą Lempel-Ziv.\n",
    "\n",
    "Należy zaimplementować dwie funkcje:  \n",
    "* `encode` - przyjmuje ciąg znaków i zwraca jego skompresowaną wersję (w postaci listy krotek)\n",
    "* `decode` - przyjmuje skompresowaną wiadomość i zwraca jej oryginalną treść (zadanie za dwa plusy :).\n",
    "\n",
    "Algorytm jest pokazany na filmiku od 5:20. Polega na wczytywaniu wiadomości znak po znaku i kompresji wiadomości na podstawie słownika fraz, który jest tworzony na bieżąco.\n",
    "\n",
    "W trakcie rozwiązywania tego zadania pojawią się pewne problemy i przypadki, które trzeba będzie obsłużyć w jakiś sposób. Przykład z filmiku w sprytny sposób je unika ;)\n",
    "\n",
    "**Termin oddania:** 27.01.2019 20:00:00\n",
    "\n",
    "Kilka rzeczy, które mogą się przydać:\n",
    "* Do tworzenia słownika fraz, może się przydać... słownik (`{key: value, key2: value}`). Jest on również przydatny z tego względu, że wyszukiwanie danej frazy ma stałą [złożoność czasową](https://wiki.python.org/moin/TimeComplexity) (_Get Item_).\n",
    "* Iterator\n",
    "\n",
    "```\n",
    "import itertools\n",
    "\n",
    "counter = itertools.count(1)\n",
    "\n",
    "print(next(counter))\n",
    "print(next(counter))\n",
    "print(next(counter))\n",
    "```\n",
    "* Ciąg znaków można traktować podobnie jak listę: `'abc'[:-2]`\n",
    "* Sprawdzanie czy klucz istnieje: `key in dictionary`"
   ]
  },
  {
   "cell_type": "markdown",
   "metadata": {},
   "source": [
    "** Solution **"
   ]
  },
  {
   "cell_type": "code",
   "execution_count": 47,
   "metadata": {},
   "outputs": [],
   "source": [
    "import itertools\n",
    "\n",
    "def encode(message):\n",
    "    \n",
    "    dict_counter = itertools.count(1)\n",
    "    \n",
    "    dictionary = dict()\n",
    "    compressed_message = list()\n",
    "    \n",
    "    current = \"\" #current processed substring\n",
    "    current_code = None  #index of current processed substring\n",
    "    \n",
    "    for index, char in enumerate(message):\n",
    "        \n",
    "        if current+char in dictionary:\n",
    "            #if the current+char exists in dictionary, look for longer substring\n",
    "            \n",
    "            current += char\n",
    "            \n",
    "            if index == len(message)-1:\n",
    "                #there is no characters left in the message\n",
    "                #so the current must be included in the compressed message\n",
    "                \n",
    "                current_code = dictionary.get(current)\n",
    "                compressed_message.append((current_code,\"\"))\n",
    "        \n",
    "        else:\n",
    "            \n",
    "            if current == \"\":\n",
    "                #the first occurence of the character\n",
    "            \n",
    "                dictionary[char] = next(dict_counter)\n",
    "            \n",
    "            else:\n",
    "            \n",
    "                current_code = dictionary.get(current)\n",
    "                dictionary[current+char] = next(dict_counter)\n",
    "                \n",
    "            compressed_message.append((current_code,char))\n",
    "            current_code = None\n",
    "            current=\"\" \n",
    "    \n",
    "    #return (compressed_message,dictionary)\n",
    "    return compressed_message\n",
    "    \n",
    "def decode(compressed_message):\n",
    "    \n",
    "    dict_counter = itertools.count(1)\n",
    "    dictionary = dict()\n",
    "    message=\"\"\n",
    "    \n",
    "    for code, char in compressed_message:\n",
    "        #print([code,char])\n",
    "        if code is None:\n",
    "            #the first occurence of the char\n",
    "            dictionary[next(dict_counter)] = char\n",
    "            message += char\n",
    "        \n",
    "        else:\n",
    "            if char == '':\n",
    "                #the last substring in the message\n",
    "                message += dictionary.get(code)\n",
    "            \n",
    "            else:\n",
    "                message += dictionary.get(code) + char\n",
    "                dictionary[next(dict_counter)] = dictionary.get(code) + char\n",
    "    \n",
    "    return message"
   ]
  },
  {
   "cell_type": "markdown",
   "metadata": {},
   "source": [
    "** Check **"
   ]
  },
  {
   "cell_type": "code",
   "execution_count": 48,
   "metadata": {},
   "outputs": [
    {
     "name": "stdout",
     "output_type": "stream",
     "text": [
      "[(None, 'A'), (1, 'B'), (2, 'B'), (3, 'A'), (2, 'A')]\n"
     ]
    },
    {
     "data": {
      "text/plain": [
       "True"
      ]
     },
     "execution_count": 48,
     "metadata": {},
     "output_type": "execute_result"
    }
   ],
   "source": [
    "message = 'AABABBABBAABA'\n",
    "compressed_message = encode(message)\n",
    "print(compressed_message)  # [(None, 'A'), (1, 'B'), (2, 'B'), (3, 'A'), (2, 'A')]\n",
    "\n",
    "decode(compressed_message) == message  # True"
   ]
  },
  {
   "cell_type": "code",
   "execution_count": 49,
   "metadata": {},
   "outputs": [
    {
     "name": "stdout",
     "output_type": "stream",
     "text": [
      "[(None, 'b'), (None, 'a'), (None, 'n'), (2, 'n'), (2, '')]\n"
     ]
    },
    {
     "data": {
      "text/plain": [
       "True"
      ]
     },
     "execution_count": 49,
     "metadata": {},
     "output_type": "execute_result"
    }
   ],
   "source": [
    "message = 'banana'\n",
    "compressed_message = encode(message)\n",
    "print(compressed_message)  # [(None, 'b'), (None, 'a'), (None, 'n'), (2, 'n'), (2, '')]\n",
    "\n",
    "decode(compressed_message) == message  # True"
   ]
  },
  {
   "cell_type": "code",
   "execution_count": 50,
   "metadata": {},
   "outputs": [
    {
     "name": "stdout",
     "output_type": "stream",
     "text": [
      "[(None, 'A'), (1, 'B'), (2, 'A')]\n"
     ]
    },
    {
     "data": {
      "text/plain": [
       "True"
      ]
     },
     "execution_count": 50,
     "metadata": {},
     "output_type": "execute_result"
    }
   ],
   "source": [
    "message = 'AABABA'\n",
    "compressed_message = encode(message)\n",
    "print(compressed_message)  # [(None, 'A'), (1, 'B'), (2, 'A')]\n",
    "\n",
    "decode(compressed_message) == message  # True"
   ]
  },
  {
   "cell_type": "code",
   "execution_count": 51,
   "metadata": {},
   "outputs": [
    {
     "name": "stdout",
     "output_type": "stream",
     "text": [
      "[(None, 'A'), (None, 'B'), (1, 'B'), (None, 'C'), (3, '')]\n"
     ]
    },
    {
     "data": {
      "text/plain": [
       "True"
      ]
     },
     "execution_count": 51,
     "metadata": {},
     "output_type": "execute_result"
    }
   ],
   "source": [
    "message = 'ABABCAB'\n",
    "compressed_message = encode(message)\n",
    "print(compressed_message)  # [(None, 'A'), (None, 'B'), (1, 'B'), (None, 'C'), (3, '')]\n",
    "\n",
    "decode(compressed_message) == message  # True"
   ]
  },
  {
   "cell_type": "markdown",
   "metadata": {},
   "source": [
    "**Beware the Wikipedia**\n",
    "\n",
    "Wrong solution from: https://pl.wikipedia.org/wiki/LZ78"
   ]
  },
  {
   "cell_type": "code",
   "execution_count": 6,
   "metadata": {
    "collapsed": true
   },
   "outputs": [],
   "source": [
    "def LZ78_encode(data):\n",
    "\tD = {}\n",
    "\tn = 1\n",
    "\tc = ''\n",
    "\tresult = []\n",
    "\tfor s in data:\n",
    "\t\tif c + s not in D:\n",
    "\t\t\tif c == '':\n",
    "\t\t\t\t# specjalny przypadek: symbol 's'\n",
    "\t\t\t\t# nie występuje jeszcze w słowniku\n",
    "\t\t\t\tresult.append( (0, s) )\n",
    "\t\t\t\tD[s] = n\n",
    "\t\t\telse:\n",
    "\t\t\t\t# ciąg 'c' jest w słowniku\n",
    "\t\t\t\tresult.append( (D[c], s) )\n",
    "\t\t\t\tD[c + s] = n\n",
    "\t\t\tn = n + 1\n",
    "\t\t\tc = ''\n",
    "\t\telse:\n",
    "\t\t\tc = c + s\n",
    "\n",
    "\treturn result\n",
    "\n",
    "def LZ78_decode(data):\n",
    "\tD = {}\n",
    "\tn = 1\n",
    "\n",
    "\tresult = []\n",
    "\tfor i, s in data:\n",
    "\t\tif i == 0:\n",
    "\t\t\tresult.append(s)\n",
    "\t\t\tD[n] = s\n",
    "\t\t\tn = n + 1\n",
    "\t\telse:\n",
    "\t\t\tresult.append(D[i] + s)\n",
    "\t\t\tD[n] = D[i] + s\n",
    "\t\t\tn = n + 1\n",
    "\n",
    "\treturn ''.join(result)"
   ]
  },
  {
   "cell_type": "code",
   "execution_count": 45,
   "metadata": {},
   "outputs": [
    {
     "name": "stdout",
     "output_type": "stream",
     "text": [
      "[(0, 'b'), (0, 'a'), (0, 'n'), (2, 'n')]\n",
      "banan\n"
     ]
    },
    {
     "data": {
      "text/plain": [
       "False"
      ]
     },
     "execution_count": 45,
     "metadata": {},
     "output_type": "execute_result"
    }
   ],
   "source": [
    "message = 'banana'\n",
    "compressed_message = LZ78_encode(message)\n",
    "print(compressed_message)\n",
    "\n",
    "print(LZ78_decode(compressed_message))\n",
    "LZ78_decode(compressed_message) == message  # True"
   ]
  },
  {
   "cell_type": "code",
   "execution_count": 46,
   "metadata": {},
   "outputs": [
    {
     "name": "stdout",
     "output_type": "stream",
     "text": [
      "[(0, 'A'), (0, 'B'), (1, 'B'), (0, 'C')]\n",
      "ABABC\n"
     ]
    },
    {
     "data": {
      "text/plain": [
       "False"
      ]
     },
     "execution_count": 46,
     "metadata": {},
     "output_type": "execute_result"
    }
   ],
   "source": [
    "message = 'ABABCAB'\n",
    "compressed_message = LZ78_encode(message)\n",
    "print(compressed_message)\n",
    "\n",
    "print(LZ78_decode(compressed_message))\n",
    "LZ78_decode(compressed_message) == message  # True"
   ]
  }
 ],
 "metadata": {
  "kernelspec": {
   "display_name": "Python 3",
   "language": "python",
   "name": "python3"
  },
  "language_info": {
   "codemirror_mode": {
    "name": "ipython",
    "version": 3
   },
   "file_extension": ".py",
   "mimetype": "text/x-python",
   "name": "python",
   "nbconvert_exporter": "python",
   "pygments_lexer": "ipython3",
   "version": "3.6.2"
  }
 },
 "nbformat": 4,
 "nbformat_minor": 2
}
