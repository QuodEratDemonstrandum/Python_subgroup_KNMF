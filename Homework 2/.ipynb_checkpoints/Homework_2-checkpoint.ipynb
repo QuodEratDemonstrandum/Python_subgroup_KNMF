{
 "cells": [
  {
   "cell_type": "markdown",
   "metadata": {},
   "source": [
    "# Zadanie 1\n",
    "\n",
    "Stworzyć swój własny moduł :)\n",
    "\n",
    "* utowrzyć folder w tym samym miejscu w ktorym znajduje się plik w którym piszemy (moj_folder)\n",
    "* wewnątrz tego folderu utworzyć plik *.py (np. moje_funkcje.py) - musi to być plik tekstowy, nie notebook\n",
    "* w tym pliku napisać funkcję printujacą jakiś napiś, chociażby hello world\n",
    "* zaimportować tę funkcję i ją użyć\n",
    "\n"
   ]
  },
  {
   "cell_type": "code",
   "execution_count": null,
   "metadata": {},
   "outputs": [],
   "source": [
    "## importotwać można na wiele sposobów\n",
    "\n",
    "import moj_folder.moje_funkcje\n",
    "moj_folder.moje_funkcje.moja_funkcja()\n",
    "\n",
    "import moj_folder.moje_funkcje as funs\n",
    "funs.moja_funkcja()\n",
    "\n",
    "from  moj_folder.moje_funkcje import moja_funkcja\n",
    "moja_funkcja()"
   ]
  },
  {
   "cell_type": "code",
   "execution_count": 6,
   "metadata": {},
   "outputs": [],
   "source": [
    "# Rozwiązanie\n",
    "from Functions.Function import print_custom"
   ]
  },
  {
   "cell_type": "code",
   "execution_count": 7,
   "metadata": {},
   "outputs": [
    {
     "name": "stdout",
     "output_type": "stream",
     "text": [
      "costam\n"
     ]
    }
   ],
   "source": [
    "print_custom(\"costam\")"
   ]
  },
  {
   "cell_type": "markdown",
   "metadata": {},
   "source": [
    "# Zadanie 2\n",
    "\n",
    "Napisać funkcję, która przyjmuje jeden argument (liczbę, listę) i zwraca dwa obiekty jak w przykładzie: double(5) = (5, 10), double([1,2]) = ([1, 2, 1, 2], [2, 4])."
   ]
  },
  {
   "cell_type": "code",
   "execution_count": 8,
   "metadata": {},
   "outputs": [
    {
     "name": "stdout",
     "output_type": "stream",
     "text": [
      "<class 'int'>\n",
      "<class 'float'>\n",
      "<class 'list'>\n",
      "\n",
      "3 is int: True\n",
      "3. is int: False\n",
      "3. is float: True\n",
      "[3] is int: False\n",
      "[3] is list: True\n",
      "3 is int or float: True\n"
     ]
    }
   ],
   "source": [
    "# Aby sprawdzić czy mamy do czynienia z liczbą czy listą możemy użyć:\n",
    "\n",
    "print(type(3))\n",
    "print(type(3.))\n",
    "print(type([3]))\n",
    "\n",
    "print()\n",
    "print(\"3 is int:\", isinstance(3, int))\n",
    "print(\"3. is int:\", isinstance(3., int))\n",
    "print(\"3. is float:\", isinstance(3., float))\n",
    "print(\"[3] is int:\", isinstance([3], int))\n",
    "print(\"[3] is list:\", isinstance([3], list))\n",
    "print(\"3 is int or float:\", isinstance(3, (int, float)))"
   ]
  },
  {
   "cell_type": "code",
   "execution_count": 9,
   "metadata": {
    "collapsed": true
   },
   "outputs": [],
   "source": [
    "# Rozwiązanie\n",
    "\n",
    "def double(x):\n",
    "    \n",
    "    if isinstance(x, (int, float)):\n",
    "        double_x = x * 2\n",
    "    elif isinstance(x,list):\n",
    "        double_x = [i * 2 for i in x]\n",
    "        x = x * 2\n",
    "\n",
    "    return x, double_x"
   ]
  },
  {
   "cell_type": "code",
   "execution_count": 13,
   "metadata": {},
   "outputs": [
    {
     "name": "stdout",
     "output_type": "stream",
     "text": [
      "(3.0, 6.0)\n",
      "([3, 3], [6])\n",
      "([1, 2, 3, 1, 2, 3], [2, 4, 6])\n"
     ]
    }
   ],
   "source": [
    "print_custom(double(3.))\n",
    "print_custom(double([3]))\n",
    "print_custom(double([1, 2, 3]))"
   ]
  },
  {
   "cell_type": "code",
   "execution_count": 10,
   "metadata": {},
   "outputs": [
    {
     "name": "stdout",
     "output_type": "stream",
     "text": [
      "True\n",
      "True\n",
      "True\n",
      "True\n",
      "True\n",
      "True\n"
     ]
    }
   ],
   "source": [
    "x = 3.\n",
    "print(double(x) == (3., 6.))\n",
    "print(x == 3.)\n",
    "\n",
    "z = [3]\n",
    "print(double(z) == ([3, 3], [6]))\n",
    "print(z == [3])\n",
    "\n",
    "w = [1, 2, 3]\n",
    "print(double(w) == ([1, 2, 3, 1, 2, 3], [2, 4, 6]))\n",
    "print(w == [1, 2, 3])"
   ]
  },
  {
   "cell_type": "code",
   "execution_count": 14,
   "metadata": {},
   "outputs": [
    {
     "name": "stdout",
     "output_type": "stream",
     "text": [
      "[[1, 2]]\n",
      "[[1, 2], [1, 2], [1, 2], [1, 2], [1, 2]]\n",
      "[[2, 2], [2, 2], [2, 2], [2, 2], [2, 2]]\n"
     ]
    }
   ],
   "source": [
    "# Dlaczego należy uważać z typami 'mutable'\n",
    "\n",
    "x = [[1, 2]]  # lista złożona z jednego elementu: listy zawierającej liczby 1 i 2\n",
    "print(x)\n",
    "\n",
    "x = x * 5  # powielamy pustą listę 5 razy\n",
    "print(x)\n",
    "\n",
    "x[0][0] = 2  # modyfikujemy pierwszy element pierwszego elementu z x\n",
    "print(x)  # zmodyfikowały się wszystkie \"referencje\""
   ]
  }
 ],
 "metadata": {
  "kernelspec": {
   "display_name": "Python 3",
   "language": "python",
   "name": "python3"
  },
  "language_info": {
   "codemirror_mode": {
    "name": "ipython",
    "version": 3
   },
   "file_extension": ".py",
   "mimetype": "text/x-python",
   "name": "python",
   "nbconvert_exporter": "python",
   "pygments_lexer": "ipython3",
   "version": "3.6.2"
  }
 },
 "nbformat": 4,
 "nbformat_minor": 2
}
