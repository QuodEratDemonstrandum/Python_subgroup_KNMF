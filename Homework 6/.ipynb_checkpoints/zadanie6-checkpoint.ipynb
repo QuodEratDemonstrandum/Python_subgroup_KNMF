{
 "cells": [
  {
   "cell_type": "markdown",
   "metadata": {},
   "source": [
    "# Zadanie 6"
   ]
  },
  {
   "cell_type": "markdown",
   "metadata": {},
   "source": [
    "Napisać klasę, która będzie rozwiązywała bardzo prosty problem regresji. Jej interfejs ma być podobny do funkcji z pakietów typu `sklearn`, tj.:"
   ]
  },
  {
   "cell_type": "code",
   "execution_count": null,
   "metadata": {
    "collapsed": true
   },
   "outputs": [],
   "source": [
    "model = MyRegression()\n",
    "\n",
    "model.fit(X, y)\n",
    "print(model.coefficients)\n",
    "\n",
    "print(model.predict(X_new))"
   ]
  },
  {
   "cell_type": "markdown",
   "metadata": {},
   "source": [
    "`X` jest _listą_ wartości na podstawie, których powinna zostać policzona wartość średnia i to ona będzie zwracana dla każdego wywołania `predict()`. Zakładamy, że `X_new` również jest listą. Zadanie oczywiście można sobie rozbudować o jakieś parametry podawane przy tworzeniu modelu, np. o _bias_, kóry będzie zawsze dodawany do średniej."
   ]
  },
  {
   "cell_type": "markdown",
   "metadata": {},
   "source": [
    "# Rozwiązanie"
   ]
  },
  {
   "cell_type": "code",
   "execution_count": 26,
   "metadata": {
    "collapsed": true
   },
   "outputs": [],
   "source": [
    "class MyRegression():\n",
    "    \n",
    "    def fit(self,values,bias=0):\n",
    "        model.mean = sum(values)/len(values)+bias\n",
    "    \n",
    "    def predict(self,new_values):\n",
    "        return model.mean"
   ]
  },
  {
   "cell_type": "code",
   "execution_count": 27,
   "metadata": {
    "collapsed": true
   },
   "outputs": [],
   "source": [
    "model = MyRegression()"
   ]
  },
  {
   "cell_type": "code",
   "execution_count": 33,
   "metadata": {},
   "outputs": [
    {
     "name": "stdout",
     "output_type": "stream",
     "text": [
      "2.5\n"
     ]
    }
   ],
   "source": [
    "model.fit([1,2,3],0.5)\n",
    "print(model.mean)"
   ]
  },
  {
   "cell_type": "code",
   "execution_count": 32,
   "metadata": {},
   "outputs": [
    {
     "data": {
      "text/plain": [
       "2.5"
      ]
     },
     "execution_count": 32,
     "metadata": {},
     "output_type": "execute_result"
    }
   ],
   "source": [
    "print(model.predict([3,3,3]))"
   ]
  }
 ],
 "metadata": {
  "kernelspec": {
   "display_name": "Python 3",
   "language": "python",
   "name": "python3"
  },
  "language_info": {
   "codemirror_mode": {
    "name": "ipython",
    "version": 3
   },
   "file_extension": ".py",
   "mimetype": "text/x-python",
   "name": "python",
   "nbconvert_exporter": "python",
   "pygments_lexer": "ipython3",
   "version": "3.6.2"
  }
 },
 "nbformat": 4,
 "nbformat_minor": 2
}
