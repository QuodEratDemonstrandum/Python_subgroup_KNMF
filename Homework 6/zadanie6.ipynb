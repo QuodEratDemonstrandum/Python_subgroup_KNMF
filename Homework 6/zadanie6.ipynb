{
 "cells": [
  {
   "cell_type": "markdown",
   "metadata": {},
   "source": [
    "# Zadanie 6"
   ]
  },
  {
   "cell_type": "markdown",
   "metadata": {},
   "source": [
    "Napisać klasę, która będzie rozwiązywała bardzo prosty problem regresji. Jej interfejs ma być podobny do funkcji z pakietów typu `sklearn`, tj.:"
   ]
  },
  {
   "cell_type": "code",
   "execution_count": null,
   "metadata": {
    "collapsed": true
   },
   "outputs": [],
   "source": [
    "model = MyRegression()\n",
    "\n",
    "model.fit(X, y)\n",
    "print(model.coefficients)\n",
    "\n",
    "print(model.predict(X_new))"
   ]
  },
  {
   "cell_type": "markdown",
   "metadata": {},
   "source": [
    "`X` jest _listą_ wartości, na podstawie których powinna zostać policzona wartość średnia i to ona będzie zwracana dla każdego wywołania `predict()`. Zakładamy, że `X_new` również jest listą. Zadanie oczywiście można sobie rozbudować o jakieś parametry podawane przy tworzeniu modelu, np. o _bias_, kóry będzie zawsze dodawany do średniej."
   ]
  },
  {
   "cell_type": "markdown",
   "metadata": {},
   "source": [
    "# Rozwiązanie"
   ]
  },
  {
   "cell_type": "code",
   "execution_count": 15,
   "metadata": {},
   "outputs": [],
   "source": [
    "class MyRegression():\n",
    "    \n",
    "    def __init__(self,bias = 0):\n",
    "        self.bias = bias\n",
    "    \n",
    "    def fit(self,values):\n",
    "        self.mean = sum(values)/len(values)+self.bias\n",
    "    \n",
    "    def predict(self,new_values):\n",
    "        return self.mean"
   ]
  },
  {
   "cell_type": "code",
   "execution_count": 16,
   "metadata": {},
   "outputs": [
    {
     "name": "stdout",
     "output_type": "stream",
     "text": [
      "2.5\n",
      "2.5\n"
     ]
    }
   ],
   "source": [
    "model = MyRegression(0.5)\n",
    "\n",
    "model.fit([1,2,3])\n",
    "print(model.mean)\n",
    "\n",
    "print(model.predict([3,3,3]))"
   ]
  },
  {
   "cell_type": "code",
   "execution_count": 17,
   "metadata": {},
   "outputs": [
    {
     "name": "stdout",
     "output_type": "stream",
     "text": [
      "3.0\n",
      "4.0\n"
     ]
    }
   ],
   "source": [
    "model1 = MyRegression()\n",
    "\n",
    "model2 = MyRegression()\n",
    "\n",
    "\n",
    "\n",
    "model1.fit([3,3,3])\n",
    "\n",
    "model2.fit([4,4,4])\n",
    "\n",
    "\n",
    "\n",
    "print(model1.predict([3]))\n",
    "\n",
    "print(model2.predict([4]))"
   ]
  }
 ],
 "metadata": {
  "kernelspec": {
   "display_name": "Python 3",
   "language": "python",
   "name": "python3"
  },
  "language_info": {
   "codemirror_mode": {
    "name": "ipython",
    "version": 3
   },
   "file_extension": ".py",
   "mimetype": "text/x-python",
   "name": "python",
   "nbconvert_exporter": "python",
   "pygments_lexer": "ipython3",
   "version": "3.6.2"
  }
 },
 "nbformat": 4,
 "nbformat_minor": 2
}
